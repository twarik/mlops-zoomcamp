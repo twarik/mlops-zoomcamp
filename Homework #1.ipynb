{
 "cells": [
  {
   "cell_type": "code",
   "execution_count": 1,
   "id": "5788ef2c",
   "metadata": {},
   "outputs": [],
   "source": [
    "import pandas as pd"
   ]
  },
  {
   "cell_type": "code",
   "execution_count": 2,
   "id": "98f7d068",
   "metadata": {},
   "outputs": [],
   "source": [
    "import seaborn as sns\n",
    "import matplotlib.pyplot as plt"
   ]
  },
  {
   "cell_type": "code",
   "execution_count": 3,
   "id": "29395376",
   "metadata": {},
   "outputs": [],
   "source": [
    "from sklearn.feature_extraction import DictVectorizer\n",
    "from sklearn.linear_model import LinearRegression\n",
    "from sklearn.metrics import mean_squared_error"
   ]
  },
  {
   "cell_type": "markdown",
   "id": "1acbe5c7",
   "metadata": {},
   "source": [
    "## Q1. Downloading the data\n",
    "**Read the data for January. How many records are there?**"
   ]
  },
  {
   "cell_type": "code",
   "execution_count": 4,
   "id": "472929f1",
   "metadata": {},
   "outputs": [],
   "source": [
    "#Uncomment the codes below to dowlaod the data\n",
    "\n",
    "# !wget -O ./data/jan.parquet https://nyc-tlc.s3.amazonaws.com/trip+data/fhv_tripdata_2021-01.parquet --no-check-certificate\n",
    "# !wget -O ./data/feb.parquet https://nyc-tlc.s3.amazonaws.com/trip+data/fhv_tripdata_2021-02.parquet --no-check-certificat'''"
   ]
  },
  {
   "cell_type": "code",
   "execution_count": 5,
   "id": "129c4945",
   "metadata": {},
   "outputs": [],
   "source": [
    "jan_df = pd.read_parquet('./data/jan.parquet')\n",
    "feb_df = pd.read_parquet('./data/feb.parquet')"
   ]
  },
  {
   "cell_type": "code",
   "execution_count": 6,
   "id": "3850a9b7",
   "metadata": {},
   "outputs": [
    {
     "data": {
      "text/plain": [
       "1154112"
      ]
     },
     "execution_count": 6,
     "metadata": {},
     "output_type": "execute_result"
    }
   ],
   "source": [
    "len(jan_df)"
   ]
  },
  {
   "cell_type": "markdown",
   "id": "9665706c",
   "metadata": {},
   "source": [
    "## Q2. Computing duration\n",
    "\n",
    "**What's the average trip duration in January?**"
   ]
  },
  {
   "cell_type": "code",
   "execution_count": 7,
   "id": "5a4d820c",
   "metadata": {},
   "outputs": [
    {
     "data": {
      "text/plain": [
       "19.1672240937939"
      ]
     },
     "execution_count": 7,
     "metadata": {},
     "output_type": "execute_result"
    }
   ],
   "source": [
    "jan_df['duration'] = jan_df.dropOff_datetime - jan_df.pickup_datetime\n",
    "jan_df.duration = jan_df.duration.apply(lambda td: td.total_seconds() / 60)\n",
    "jan_df.duration.mean()"
   ]
  },
  {
   "cell_type": "markdown",
   "id": "ccc93626",
   "metadata": {},
   "source": [
    "## Data preparation\n",
    "\n",
    "**Check the distribution of the duration variable.**"
   ]
  },
  {
   "cell_type": "code",
   "execution_count": 8,
   "id": "070e683f",
   "metadata": {},
   "outputs": [
    {
     "name": "stderr",
     "output_type": "stream",
     "text": [
      "D:\\ProgramFiles\\anaconda3\\lib\\site-packages\\seaborn\\distributions.py:2557: FutureWarning: `distplot` is a deprecated function and will be removed in a future version. Please adapt your code to use either `displot` (a figure-level function with similar flexibility) or `histplot` (an axes-level function for histograms).\n",
      "  warnings.warn(msg, FutureWarning)\n"
     ]
    },
    {
     "data": {
      "image/png": "[encoded data removed]",
      "text/plain": [
       "<Figure size 432x288 with 1 Axes>"
      ]
     },
     "metadata": {
      "needs_background": "light"
     },
     "output_type": "display_data"
    }
   ],
   "source": [
    "sns.distplot(jan_df.duration)\n",
    "plt.show()"
   ]
  },
  {
   "cell_type": "code",
   "execution_count": 9,
   "id": "135e4957",
   "metadata": {},
   "outputs": [
    {
     "data": {
      "text/plain": [
       "count    1.154112e+06\n",
       "mean     1.916722e+01\n",
       "std      3.986922e+02\n",
       "min      1.666667e-02\n",
       "25%      7.766667e+00\n",
       "50%      1.340000e+01\n",
       "75%      2.228333e+01\n",
       "max      4.233710e+05\n",
       "Name: duration, dtype: float64"
      ]
     },
     "execution_count": 9,
     "metadata": {},
     "output_type": "execute_result"
    }
   ],
   "source": [
    "jan_df.duration.describe()"
   ]
  },
  {
   "cell_type": "code",
   "execution_count": 10,
   "id": "2df88f28",
   "metadata": {},
   "outputs": [
    {
     "data": {
      "text/plain": [
       "44286"
      ]
     },
     "execution_count": 10,
     "metadata": {},
     "output_type": "execute_result"
    }
   ],
   "source": [
    "jan_df2 = jan_df[(jan_df.duration >= 1) & (jan_df.duration <= 60)]\n",
    "\n",
    "len(jan_df) - len(jan_df2)"
   ]
  },
  {
   "cell_type": "code",
   "execution_count": 11,
   "id": "320e1a7e",
   "metadata": {},
   "outputs": [
    {
     "data": {
      "text/plain": [
       "83.52732770722618"
      ]
     },
     "execution_count": 11,
     "metadata": {},
     "output_type": "execute_result"
    }
   ],
   "source": [
    "features = jan_df2[[\"PUlocationID\",\"DOlocationID\"]].fillna(-1)\n",
    "\n",
    "len(features[features[\"PUlocationID\"] == -1])/len(features)*100"
   ]
  },
  {
   "cell_type": "markdown",
   "id": "2cc26703",
   "metadata": {},
   "source": [
    "## Q4. One-hot encoding\n",
    "\n",
    "**Turn the dataframe into a list of dictionaries**"
   ]
  },
  {
   "cell_type": "code",
   "execution_count": 12,
   "id": "4f4236ad",
   "metadata": {},
   "outputs": [
    {
     "data": {
      "text/plain": [
       "<1109826x2 sparse matrix of type '<class 'numpy.float64'>'\n",
       "\twith 2219652 stored elements in Compressed Sparse Row format>"
      ]
     },
     "execution_count": 12,
     "metadata": {},
     "output_type": "execute_result"
    }
   ],
   "source": [
    "dv = DictVectorizer()\n",
    "\n",
    "#Turn the dataframe into a list of dictionaries\n",
    "train_dicts = features.to_dict(orient='records')\n",
    "#Fit a dictionary vectorizer\n",
    "X_train = dv.fit_transform(train_dicts)\n",
    "#Get a feature matrix from it\n",
    "X_train"
   ]
  },
  {
   "cell_type": "code",
   "execution_count": 13,
   "id": "8c56be4a",
   "metadata": {},
   "outputs": [
    {
     "data": {
      "text/plain": [
       "(1109826, 2)"
      ]
     },
     "execution_count": 13,
     "metadata": {},
     "output_type": "execute_result"
    }
   ],
   "source": [
    "#Dimensionality of this matrix\n",
    "X_train.shape"
   ]
  },
  {
   "cell_type": "markdown",
   "id": "3d63f927",
   "metadata": {},
   "source": [
    "## Q5. Training a model"
   ]
  },
  {
   "cell_type": "markdown",
   "id": "c88fd9a4",
   "metadata": {},
   "source": [
    "**Train a plain linear regression model with default parameters**"
   ]
  },
  {
   "cell_type": "code",
   "execution_count": 14,
   "id": "d60337a1",
   "metadata": {},
   "outputs": [
    {
     "data": {
      "text/plain": [
       "11.415432830521663"
      ]
     },
     "execution_count": 14,
     "metadata": {},
     "output_type": "execute_result"
    }
   ],
   "source": [
    "y_train = jan_df2['duration'].values\n",
    "\n",
    "lr = LinearRegression()\n",
    "lr.fit(X_train, y_train)\n",
    "\n",
    "y_pred = lr.predict(X_train)\n",
    "\n",
    "mean_squared_error(y_train, y_pred, squared=False)"
   ]
  },
  {
   "cell_type": "markdown",
   "id": "f528f9a0",
   "metadata": {},
   "source": [
    "## Q6. Evaluating the model"
   ]
  },
  {
   "cell_type": "code",
   "execution_count": 15,
   "id": "e4ebaa92",
   "metadata": {},
   "outputs": [
    {
     "data": {
      "text/plain": [
       "11.85822362355935"
      ]
     },
     "execution_count": 15,
     "metadata": {},
     "output_type": "execute_result"
    }
   ],
   "source": [
    "feb_df['duration'] = feb_df.dropOff_datetime - feb_df.pickup_datetime\n",
    "feb_df.duration = feb_df.duration.apply(lambda td: td.total_seconds() / 60)\n",
    "\n",
    "feb_df2 = feb_df[(feb_df.duration >= 1) & (feb_df.duration <= 60)]\n",
    "features2 = feb_df2[[\"PUlocationID\",\"DOlocationID\"]].fillna(-1)\n",
    "\n",
    "val_dicts = features2.to_dict(orient='records')\n",
    "X_val = dv.transform(val_dicts)\n",
    "\n",
    "y_val = feb_df2['duration'].values\n",
    "\n",
    "y_pred2 = lr.predict(X_val)\n",
    "\n",
    "mean_squared_error(y_val, y_pred2, squared=False)"
   ]
  },
  {
   "cell_type": "code",
   "execution_count": null,
   "id": "a8dcd4c4",
   "metadata": {},
   "outputs": [],
   "source": []
  }
 ],
 "metadata": {
  "kernelspec": {
   "display_name": "Python 3",
   "language": "python",
   "name": "python3"
  },
  "language_info": {
   "codemirror_mode": {
    "name": "ipython",
    "version": 3
   },
   "file_extension": ".py",
   "mimetype": "text/x-python",
   "name": "python",
   "nbconvert_exporter": "python",
   "pygments_lexer": "ipython3",
   "version": "3.8.8"
  }
 },
 "nbformat": 4,
 "nbformat_minor": 5
}
